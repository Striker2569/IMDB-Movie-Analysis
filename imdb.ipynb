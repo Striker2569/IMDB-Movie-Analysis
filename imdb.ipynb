{
 "cells": [
  {
   "cell_type": "code",
   "execution_count": null,
   "metadata": {},
   "outputs": [],
   "source": [
    "import pandas as pd\n",
    "import numpy as np\n",
    "df = pd.read_csv('IMDB_Movies.csv')\n",
    "df"
   ]
  },
  {
   "cell_type": "code",
   "execution_count": null,
   "metadata": {},
   "outputs": [],
   "source": [
    "df['color']=df['color'].fillna(df['color'].mode()[0])"
   ]
  },
  {
   "cell_type": "code",
   "execution_count": null,
   "metadata": {},
   "outputs": [],
   "source": [
    "df"
   ]
  },
  {
   "cell_type": "code",
   "execution_count": null,
   "metadata": {},
   "outputs": [],
   "source": [
    "df['actor_3_facebook_likes']=df['actor_3_facebook_likes'].fillna(df['actor_3_facebook_likes'].median().round(1))\n",
    "df"
   ]
  },
  {
   "cell_type": "code",
   "execution_count": null,
   "metadata": {},
   "outputs": [],
   "source": [
    "df['director_facebook_likes']=df['director_facebook_likes'].fillna(df['director_facebook_likes'].median().round(1))\n",
    "df"
   ]
  },
  {
   "cell_type": "code",
   "execution_count": null,
   "metadata": {},
   "outputs": [],
   "source": [
    "df['budget']=df['budget'].fillna(df['budget'].median().round(1))\n",
    "df"
   ]
  },
  {
   "cell_type": "code",
   "execution_count": null,
   "metadata": {},
   "outputs": [],
   "source": [
    "df['gross']=df['gross'].fillna(df['gross'].median().round(1))\n",
    "df"
   ]
  },
  {
   "cell_type": "code",
   "execution_count": null,
   "metadata": {},
   "outputs": [],
   "source": []
  },
  {
   "cell_type": "code",
   "execution_count": null,
   "metadata": {},
   "outputs": [],
   "source": [
    "df['content_rating']=df['content_rating'].fillna(df['content_rating'].mode()[0])\n",
    "df\n"
   ]
  },
  {
   "cell_type": "code",
   "execution_count": null,
   "metadata": {},
   "outputs": [],
   "source": [
    "df['country']=df['country'].fillna(df['country'].mode()[0])\n",
    "df['language']=df['language'].fillna(df['language'].mode()[0])\n",
    "df['title_year']=df['title_year'].fillna(df['title_year'].mode()[0])\n",
    "df['aspect_ratio']=df['aspect_ratio'].fillna(df['aspect_ratio'].median().round(1))\n",
    "df['duration']=df['duration'].fillna(df['duration'].median().round(1))\n",
    "df['num_critic_for_reviews']=df['num_critic_for_reviews'].fillna(df['num_critic_for_reviews'].median().round(1))\n",
    "df\n",
    "\n"
   ]
  },
  {
   "cell_type": "code",
   "execution_count": null,
   "metadata": {},
   "outputs": [],
   "source": [
    "df.to_csv('IMDB_filtered_data.csv')"
   ]
  },
  {
   "cell_type": "markdown",
   "metadata": {},
   "source": [
    "Create a new column called profit which contains the difference of the two columns: gross and budget. Sort the column using the profit column as reference. Plot profit (y-axis) vs budget (x- axis) and observe the outliers using the appropriate chart type."
   ]
  },
  {
   "cell_type": "code",
   "execution_count": null,
   "metadata": {},
   "outputs": [],
   "source": [
    "import pandas as pd\n",
    "df1 = pd.read_csv('IMDB_filtered_data.csv')"
   ]
  },
  {
   "cell_type": "code",
   "execution_count": null,
   "metadata": {},
   "outputs": [],
   "source": [
    "df1['profit'] = df1['gross'] - df1['budget']\n",
    "df1['profit']"
   ]
  },
  {
   "cell_type": "code",
   "execution_count": null,
   "metadata": {},
   "outputs": [],
   "source": [
    "import numpy as np\n",
    "import matplotlib.pyplot as mp\n",
    "x = df1['gross']\n",
    "y = df1['budget']\n",
    "z = df1['profit']\n",
    "plt.scatter(x,y,)\n",
    "plt.show()"
   ]
  },
  {
   "cell_type": "code",
   "execution_count": null,
   "metadata": {},
   "outputs": [],
   "source": [
    "import matplotlib.pyplot as plt\n",
    "import matplotlib.image as mpimg\n",
    "img = mpimg.imread('Gross_vs_budget.png')\n",
    "imgplot = plt.imshow(img)\n",
    "plt.show()\n"
   ]
  },
  {
   "cell_type": "code",
   "execution_count": null,
   "metadata": {},
   "outputs": [],
   "source": [
    "df1.describe()[['gross', 'budget','profit']]"
   ]
  },
  {
   "cell_type": "markdown",
   "metadata": {},
   "source": [
    "Thus it does have outliners"
   ]
  },
  {
   "cell_type": "code",
   "execution_count": null,
   "metadata": {},
   "outputs": [],
   "source": [
    "df2=df1.loc[df1['profit'] == 523505847] #profit max of IMDB\n",
    "df2['movie_title']"
   ]
  },
  {
   "cell_type": "markdown",
   "metadata": {},
   "source": [
    "Create a new column IMDb_Top_250 and store the top 250 movies with the highest IMDb Rating (corresponding to the column: imdb_score). Also make sure that for all of these movies, the num_voted_users is greater than 25,000. Also add a Rank column containing the values 1 to 250 indicating the ranks of the corresponding films.\n",
    "\n",
    "Extract all the movies in the IMDb_Top_250 column which are not in the English language and store them in a new column named Top_Foreign_Lang_Film. You can use your own imagination also!"
   ]
  },
  {
   "cell_type": "code",
   "execution_count": null,
   "metadata": {},
   "outputs": [],
   "source": [
    "df1 = df1.sort_values(by='imdb_score',ascending=False)\n"
   ]
  },
  {
   "cell_type": "code",
   "execution_count": null,
   "metadata": {},
   "outputs": [],
   "source": [
    "# df1 = df[df.num_voted_users>25000]\n",
    "df1"
   ]
  },
  {
   "cell_type": "code",
   "execution_count": null,
   "metadata": {},
   "outputs": [],
   "source": [
    "\n"
   ]
  },
  {
   "cell_type": "markdown",
   "metadata": {},
   "source": [
    " TGroup the column using the director_name column.\n",
    "\n",
    "Find out the top 10 directors for whom the mean of imdb_score is the highest and store them in a new column top10director. In case of a tie in IMDb score between two directors, sort them alphabetically."
   ]
  },
  {
   "cell_type": "code",
   "execution_count": null,
   "metadata": {},
   "outputs": [],
   "source": [
    "import numpy as np\n",
    "import pandas as pd\n",
    "data = pd.read_csv('IMDB_filtered_data.csv')\n",
    "data"
   ]
  },
  {
   "cell_type": "code",
   "execution_count": null,
   "metadata": {},
   "outputs": [],
   "source": [
    "data.sort_values(by='imdb_score',ascending=False)"
   ]
  },
  {
   "cell_type": "code",
   "execution_count": null,
   "metadata": {},
   "outputs": [],
   "source": [
    "df1=data['genres']\n",
    "df1"
   ]
  },
  {
   "cell_type": "code",
   "execution_count": null,
   "metadata": {},
   "outputs": [],
   "source": [
    "Action=df1.str.count(\"Action\").sum()\n",
    "Adventure=df1.str.count(\"Adventure\").sum()\n",
    "Fantasy=df1.str.count(\"Fantasy\").sum()\n",
    "Sci_fi = df1.str.count(\"Sci-Fi\").sum()\n",
    "Thriller=df1.str.count(\"Thriller\").sum()\n",
    "Documentary=df1.str.count(\"Documentary\").sum()\n",
    "Comedy=df1.str.count(\"Comedy\").sum()\n",
    "Crime=df1.str.count(\"Crime\").sum()\n",
    "Mystery=df1.str.count(\"Mystery\").sum()\n",
    "Drama=df1.str.count(\"Drama\").sum()\n",
    "Horror=df1.str.count(\"Horror\").sum()\n",
    "Romance=df1.str.count(\"Romance\").sum()\n",
    "\n",
    "\n",
    "gen = pd.DataFrame([[Action,Adventure,Fantasy,Sci_fi,Thriller,Documentary,Comedy,Crime,Mystery,Drama,Horror,Romance]],columns=['Action','Adventure','Fantasy','Sci_fi','Thriller','Documentary','Comedy','Crime','Mystery','Drama','Horror','Romance'])\n",
    "gen\n",
    "gen.to_csv(\"popular_genres.csv\")"
   ]
  },
  {
   "cell_type": "markdown",
   "metadata": {},
   "source": [
    "Create three new columns namely, Meryl_Streep, Leo_Caprio, and Brad_Pitt which contain the movies in which the actors: 'Meryl Streep', 'Leonardo DiCaprio', and 'Brad Pitt' are the lead actors. Use only the actor_1_name column for extraction. Also, make sure that you use the names 'Meryl Streep', 'Leonardo DiCaprio', and 'Brad Pitt' for the said extraction.\n",
    "\n",
    "Append the rows of all these columns and store them in a new column named Combined.\n",
    "\n",
    "Group the combined column using the actor_1_name column.\n",
    "\n",
    "Find the mean of the num_critic_for_reviews and num_users_for_review and identify the actors which have the highest mean.\n",
    "\n",
    "Observe the change in number of voted users over decades using a bar chart. Create a column called decade which represents the decade to which every movie belongs to. For example, the title_year year 1923, 1925 should be stored as 1920s. Sort the column based on the column decade, group it by decade and find the sum of users voted in each decade. Store this in a new data frame called df_by_decade."
   ]
  },
  {
   "cell_type": "code",
   "execution_count": null,
   "metadata": {},
   "outputs": [],
   "source": [
    "df1 = data.loc[data['actor_1_name'] == 'Brad Pitt']\n",
    "brad_mean_critic = df1['num_critic_for_reviews'].mean()\n",
    "brad_mean_user = df1['num_user_for_reviews'].mean()\n",
    "df2 = data.loc[data['actor_1_name'] == 'Leonardo DiCaprio']\n",
    "leo_mean_critic = df2['num_critic_for_reviews'].mean()\n",
    "leo_mean_user = df2['num_user_for_reviews'].mean()\n",
    "df3 = data.loc[data['actor_1_name'] == 'Meryl Streep']\n",
    "merly_mean_critic = df3['num_critic_for_reviews'].mean()\n",
    "merly_mean_user = df3['num_user_for_reviews'].mean()\n",
    "print(brad_mean_user)\n",
    "print(leo_mean_user)\n",
    "print(merly_mean_user)\n"
   ]
  },
  {
   "cell_type": "markdown",
   "metadata": {},
   "source": [
    "Finding the highest of all critic review mean"
   ]
  },
  {
   "cell_type": "code",
   "execution_count": null,
   "metadata": {},
   "outputs": [],
   "source": [
    "if (brad_mean_critic > leo_mean_critic) and (brad_mean_critic > merly_mean_critic):\n",
    "   largest = brad_mean_critic\n",
    "   actor = \"Brad Pitt\"\n",
    "elif (leo_mean_critic > brad_mean_critic) and (leo_mean_critic > merly_mean_critic):\n",
    "   largest = leo_mean_critic\n",
    "   actor = \"Leonardo DiCaprio\"\n",
    "else:\n",
    "   largest = merly_mean_critic\n",
    "   actor = \"Meryl Streep\"\n",
    "print(\"the largest mean critic of all is:\", largest)\n",
    "print(\"By: \",actor)"
   ]
  },
  {
   "cell_type": "markdown",
   "metadata": {},
   "source": [
    "Finding the heighest of all review review mean"
   ]
  },
  {
   "cell_type": "code",
   "execution_count": null,
   "metadata": {},
   "outputs": [],
   "source": [
    "if (brad_mean_user > leo_mean_user) and (brad_mean_user > merly_mean_user):\n",
    "   largest = brad_mean_user\n",
    "   actor = \"Brad Pitt\"\n",
    "elif (leo_mean_user > brad_mean_user) and (leo_mean_user > merly_mean_user):\n",
    "   largest = leo_mean_user\n",
    "   actor = \"Leonardo DiCaprio\"\n",
    "else:\n",
    "   largest = merly_mean_user\n",
    "   actor = \"Meryl Streep\"\n",
    "print(\"the largest mean user of all is:\", largest)\n",
    "print(\"By: \",actor)"
   ]
  },
  {
   "cell_type": "code",
   "execution_count": null,
   "metadata": {},
   "outputs": [],
   "source": []
  }
 ],
 "metadata": {
  "kernelspec": {
   "display_name": "Python 3.10.4 64-bit",
   "language": "python",
   "name": "python3"
  },
  "language_info": {
   "codemirror_mode": {
    "name": "ipython",
    "version": 3
   },
   "file_extension": ".py",
   "mimetype": "text/x-python",
   "name": "python",
   "nbconvert_exporter": "python",
   "pygments_lexer": "ipython3",
   "version": "3.10.4"
  },
  "orig_nbformat": 4,
  "vscode": {
   "interpreter": {
    "hash": "369f2c481f4da34e4445cda3fffd2e751bd1c4d706f27375911949ba6bb62e1c"
   }
  }
 },
 "nbformat": 4,
 "nbformat_minor": 2
}
